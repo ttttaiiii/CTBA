{
 "cells": [
  {
   "cell_type": "code",
   "execution_count": 2,
   "id": "3ece1065",
   "metadata": {},
   "outputs": [
    {
     "name": "stdout",
     "output_type": "stream",
     "text": [
      "7\n",
      "data\n"
     ]
    }
   ],
   "source": [
    "x = 7\n",
    "y= 'data'\n",
    "\n",
    "print(x)\n",
    "print(y)"
   ]
  },
  {
   "cell_type": "code",
   "execution_count": 3,
   "id": "e56676c8",
   "metadata": {},
   "outputs": [
    {
     "name": "stdout",
     "output_type": "stream",
     "text": [
      "10\n"
     ]
    }
   ],
   "source": [
    "my_variable = 10\n",
    "print(my_variable)"
   ]
  },
  {
   "cell_type": "code",
   "execution_count": 8,
   "id": "569702b5",
   "metadata": {},
   "outputs": [
    {
     "name": "stdout",
     "output_type": "stream",
     "text": [
      "30\n"
     ]
    }
   ],
   "source": [
    "my_variable += 5\n",
    "print(my_variable)"
   ]
  },
  {
   "cell_type": "markdown",
   "id": "13c38bed",
   "metadata": {},
   "source": [
    "Working with Strings"
   ]
  },
  {
   "cell_type": "code",
   "execution_count": 9,
   "id": "b09f65e3",
   "metadata": {},
   "outputs": [
    {
     "name": "stdout",
     "output_type": "stream",
     "text": [
      "What are you studying?\n",
      "Analytics!\n"
     ]
    }
   ],
   "source": [
    "\"I am a MSBA student\"\n",
    "\n",
    "question = \"What are you studying?\"\n",
    "answer = \"Analytics!\"\n",
    "\n",
    "print(question)\n",
    "print(answer)"
   ]
  },
  {
   "cell_type": "code",
   "execution_count": null,
   "id": "099b5c18",
   "metadata": {},
   "outputs": [
    {
     "name": "stdout",
     "output_type": "stream",
     "text": [
      "What are you studying? Analytics!\n"
     ]
    }
   ],
   "source": [
    "print(question + \" \" + answer) # Concatenation using standard format\n",
    "print(f'{question} {answer}') # Concatenation using f-string format"
   ]
  },
  {
   "cell_type": "code",
   "execution_count": 12,
   "id": "db4eab50",
   "metadata": {},
   "outputs": [
    {
     "name": "stdout",
     "output_type": "stream",
     "text": [
      "What are you studying?\n",
      "Analytics!\n"
     ]
    }
   ],
   "source": [
    "### adding a line break\n",
    "print(question + '\\n' + answer)"
   ]
  },
  {
   "cell_type": "code",
   "execution_count": 16,
   "id": "53445aeb",
   "metadata": {},
   "outputs": [
    {
     "data": {
      "text/plain": [
       "str"
      ]
     },
     "execution_count": 16,
     "metadata": {},
     "output_type": "execute_result"
    }
   ],
   "source": [
    "type(answer)"
   ]
  },
  {
   "cell_type": "code",
   "execution_count": 17,
   "id": "44fd91ff",
   "metadata": {},
   "outputs": [
    {
     "data": {
      "text/plain": [
       "10"
      ]
     },
     "execution_count": 17,
     "metadata": {},
     "output_type": "execute_result"
    }
   ],
   "source": [
    "len(answer)"
   ]
  },
  {
   "cell_type": "markdown",
   "id": "36bf1027",
   "metadata": {},
   "source": [
    "### Indexing a string"
   ]
  },
  {
   "cell_type": "code",
   "execution_count": null,
   "id": "15aa1cc8",
   "metadata": {},
   "outputs": [
    {
     "data": {
      "text/plain": [
       "'!'"
      ]
     },
     "execution_count": 21,
     "metadata": {},
     "output_type": "execute_result"
    }
   ],
   "source": [
    "answer[0] # First character\n",
    "answer[2] # Third character\n",
    "# answer[10] # Tenth character\n",
    "answer[-1]"
   ]
  },
  {
   "cell_type": "code",
   "execution_count": 24,
   "id": "307113e8",
   "metadata": {},
   "outputs": [
    {
     "name": "stdout",
     "output_type": "stream",
     "text": [
      "CT\n"
     ]
    }
   ],
   "source": [
    "course = 'CTBA'\n",
    "\n",
    "len(course)\n",
    "\n",
    "print(course[0:2]) # First two characters"
   ]
  },
  {
   "cell_type": "markdown",
   "id": "33fe6cd4",
   "metadata": {},
   "source": [
    "### Functions and Methods"
   ]
  },
  {
   "cell_type": "code",
   "execution_count": null,
   "id": "6c70c913",
   "metadata": {},
   "outputs": [
    {
     "name": "stdout",
     "output_type": "stream",
     "text": [
      "ANALYTICS!\n"
     ]
    }
   ],
   "source": [
    "answer_cap = answer.upper() # Convert to uppercase\n",
    "print(answer_cap)"
   ]
  },
  {
   "cell_type": "code",
   "execution_count": null,
   "id": "73e51a7e",
   "metadata": {},
   "outputs": [
    {
     "data": {
      "text/plain": [
       "5"
      ]
     },
     "execution_count": 29,
     "metadata": {},
     "output_type": "execute_result"
    }
   ],
   "source": [
    "answer.lower() # Convert to lowercase\n",
    "\n",
    "answer.find('t') # Find the index of the first occurrence of 't"
   ]
  },
  {
   "cell_type": "code",
   "execution_count": null,
   "id": "4841795d",
   "metadata": {},
   "outputs": [
    {
     "name": "stdout",
     "output_type": "stream",
     "text": [
      "Hello, my name is Tai Chirasittikorn. I am studying Business Analytics.\n",
      "Hello, my name is Tai Chirasittikorn. I am studying Business Analytics.\n"
     ]
    }
   ],
   "source": [
    "name = 'Tai Chirasittikorn' # That's very longgggggggg last name\n",
    "\n",
    "print('Hello, my name is ' + name + '. I am studying Business Analytics.')\n",
    "print(f'Hello, my name is {name}. I am studying Business Analytics.')"
   ]
  },
  {
   "cell_type": "markdown",
   "id": "db09ac8b",
   "metadata": {},
   "source": [
    "## Tuples"
   ]
  },
  {
   "cell_type": "code",
   "execution_count": 32,
   "id": "834b11e5",
   "metadata": {},
   "outputs": [
    {
     "name": "stdout",
     "output_type": "stream",
     "text": [
      "(1, 2, 3, 4, 5)\n"
     ]
    }
   ],
   "source": [
    "t1 = (1, 2, 3, 4, 5)\n",
    "print(t1)"
   ]
  },
  {
   "cell_type": "code",
   "execution_count": null,
   "id": "04d4f812",
   "metadata": {},
   "outputs": [
    {
     "ename": "TypeError",
     "evalue": "'tuple' object does not support item assignment",
     "output_type": "error",
     "traceback": [
      "\u001b[31m---------------------------------------------------------------------------\u001b[39m",
      "\u001b[31mTypeError\u001b[39m                                 Traceback (most recent call last)",
      "\u001b[36mCell\u001b[39m\u001b[36m \u001b[39m\u001b[32mIn[33]\u001b[39m\u001b[32m, line 1\u001b[39m\n\u001b[32m----> \u001b[39m\u001b[32m1\u001b[39m \u001b[43mt1\u001b[49m\u001b[43m[\u001b[49m\u001b[32;43m0\u001b[39;49m\u001b[43m]\u001b[49m = \u001b[32m11\u001b[39m\n",
      "\u001b[31mTypeError\u001b[39m: 'tuple' object does not support item assignment"
     ]
    }
   ],
   "source": [
    "t1[0] = 11 # Tuples are immutable, so this will raise an error"
   ]
  },
  {
   "cell_type": "code",
   "execution_count": 39,
   "id": "6f851e27",
   "metadata": {},
   "outputs": [
    {
     "name": "stdout",
     "output_type": "stream",
     "text": [
      "{'name': 'Tai Chirasittikorn', 'age': 8, 'city': 'Williamsburg'}\n",
      "Tai Chirasittikorn\n",
      "{'name': 'Tai Chirasittikorn', 'age': 8, 'city': 'Williamsburg', 'email': 'tchirasittikor01@wm.edu'}\n"
     ]
    }
   ],
   "source": [
    "d1 = {'name': 'Tai Chirasittikorn',\n",
    "      'age': 8,\n",
    "      'city': 'Williamsburg'\n",
    "      }\n",
    "\n",
    "print(d1)\n",
    "print(d1['name'])\n",
    "\n",
    "d1['email'] = 'tchirasittikor01@wm.edu'\n",
    "print(d1)"
   ]
  },
  {
   "cell_type": "code",
   "execution_count": 41,
   "id": "3ce0c616",
   "metadata": {},
   "outputs": [
    {
     "name": "stdout",
     "output_type": "stream",
     "text": [
      "name : Tai Chirasittikorn\n",
      "age : 8\n",
      "city : Williamsburg\n",
      "email : tchirasittikor01@wm.edu\n"
     ]
    }
   ],
   "source": [
    "## Formatting the \n",
    "for key, value in d1.items():\n",
    "    print(key, ':', value)"
   ]
  },
  {
   "cell_type": "code",
   "execution_count": null,
   "id": "6ed8d169",
   "metadata": {},
   "outputs": [],
   "source": [
    "people = {\n",
    "    'person1': {'name': 'Tai Chirasittikorn', 'age':8, 'city': 'Williamsburg'},\n",
    "    'person2': {'name': 'Salad Steak', 'age':1, 'city':'Bangkok'}\n",
    "}\n",
    "people"
   ]
  },
  {
   "cell_type": "code",
   "execution_count": null,
   "id": "1485c447",
   "metadata": {},
   "outputs": [
    {
     "name": "stdout",
     "output_type": "stream",
     "text": [
      "{'A': {'B': 10, 'C': 15}, 'B': {'A': 10, 'C': 20}, 'C': {'A': 15, 'B': 20}}\n"
     ]
    }
   ],
   "source": [
    "distances = {\n",
    "    'A': {'B':10, 'C':15},\n",
    "    'B': {'A':10, 'C':20},\n",
    "    'C': {'A':15, 'B':20}\n",
    "}\n",
    "print(distances)"
   ]
  },
  {
   "cell_type": "code",
   "execution_count": 48,
   "id": "00ed5f41",
   "metadata": {},
   "outputs": [],
   "source": [
    "studnets = {\n",
    "    'student1': {'name': 'Bryce', 'grade':3.8, 'major': 'MSBA', '#ofcourses': 1},\n",
    "    'student2': {'name': 'Mann', 'grade':3.6, 'major': 'MSBA', '#ofcourses': 2},\n",
    "    'student3': {'name': 'Tai', 'grade':3.4, 'major': 'MSBA', '#ofcourses': 3},\n",
    "    'student4': {'name': 'Conner', 'grade':3.7, 'major': 'MSBA', '#ofcourses': 4}\n",
    "}"
   ]
  },
  {
   "cell_type": "markdown",
   "id": "14a4f1e2",
   "metadata": {},
   "source": [
    "### If statements"
   ]
  },
  {
   "cell_type": "code",
   "execution_count": 50,
   "id": "e83bafa0",
   "metadata": {},
   "outputs": [
    {
     "name": "stdout",
     "output_type": "stream",
     "text": [
      "x is greater than 5\n"
     ]
    }
   ],
   "source": [
    "x= 10\n",
    "\n",
    "if x > 5:\n",
    "    print('x is greater than 5')"
   ]
  },
  {
   "cell_type": "markdown",
   "id": "be0d0d4b",
   "metadata": {},
   "source": [
    "### If Else"
   ]
  },
  {
   "cell_type": "code",
   "execution_count": 52,
   "id": "e7624ab6",
   "metadata": {},
   "outputs": [
    {
     "name": "stdout",
     "output_type": "stream",
     "text": [
      "x is even\n"
     ]
    }
   ],
   "source": [
    "x = 4\n",
    "if x % 2 == 0:\n",
    "    print('x is even')\n",
    "else:\n",
    "    print('x is odd')"
   ]
  },
  {
   "cell_type": "markdown",
   "id": "e38a5ac8",
   "metadata": {},
   "source": [
    "### Working with elif"
   ]
  },
  {
   "cell_type": "code",
   "execution_count": 54,
   "id": "6c9faa9a",
   "metadata": {},
   "outputs": [
    {
     "name": "stdout",
     "output_type": "stream",
     "text": [
      "x is zero\n"
     ]
    }
   ],
   "source": [
    "x = 0\n",
    "if x > 0:\n",
    "    print('x is positive')\n",
    "elif x == 0:\n",
    "    print('x is zero')\n",
    "else:\n",
    "    print('x is Negative')"
   ]
  },
  {
   "cell_type": "markdown",
   "id": "00490096",
   "metadata": {},
   "source": [
    "### For loooooooooooooooooops"
   ]
  },
  {
   "cell_type": "code",
   "execution_count": 57,
   "id": "c850e263",
   "metadata": {},
   "outputs": [
    {
     "name": "stdout",
     "output_type": "stream",
     "text": [
      "i is 0\n",
      "i is 1\n",
      "i is 2\n",
      "i is 3\n",
      "i is 4\n"
     ]
    }
   ],
   "source": [
    "# with an i and a range function\n",
    "for i in range(5):\n",
    "    print('i is', i)"
   ]
  },
  {
   "cell_type": "code",
   "execution_count": 58,
   "id": "534ce62a",
   "metadata": {},
   "outputs": [
    {
     "name": "stdout",
     "output_type": "stream",
     "text": [
      "0 is even\n",
      "1 is odd\n",
      "2 is even\n",
      "3 is odd\n",
      "4 is even\n"
     ]
    }
   ],
   "source": [
    "x = 0\n",
    "\n",
    "while x< 5:\n",
    "    if x % 2 == 0:\n",
    "        print(x, 'is even')\n",
    "    else:\n",
    "        print(x, 'is odd')\n",
    "    x += 1"
   ]
  },
  {
   "cell_type": "markdown",
   "id": "29c4feb9",
   "metadata": {},
   "source": []
  },
  {
   "cell_type": "code",
   "execution_count": 59,
   "id": "087bc8f7",
   "metadata": {},
   "outputs": [],
   "source": [
    "import numpy as np"
   ]
  },
  {
   "cell_type": "code",
   "execution_count": 1,
   "id": "88855258",
   "metadata": {},
   "outputs": [
    {
     "ename": "NameError",
     "evalue": "name 'np' is not defined",
     "output_type": "error",
     "traceback": [
      "\u001b[31m---------------------------------------------------------------------------\u001b[39m",
      "\u001b[31mNameError\u001b[39m                                 Traceback (most recent call last)",
      "\u001b[36mCell\u001b[39m\u001b[36m \u001b[39m\u001b[32mIn[1]\u001b[39m\u001b[32m, line 1\u001b[39m\n\u001b[32m----> \u001b[39m\u001b[32m1\u001b[39m arr1 = \u001b[43mnp\u001b[49m.array([\u001b[32m1\u001b[39m,\u001b[32m2\u001b[39m,\u001b[32m3\u001b[39m,\u001b[32m4\u001b[39m,\u001b[32m5\u001b[39m])\n\u001b[32m      2\u001b[39m \u001b[38;5;28mprint\u001b[39m(arr1)\n",
      "\u001b[31mNameError\u001b[39m: name 'np' is not defined"
     ]
    }
   ],
   "source": [
    "arr1 = np.array([1,2,3,4,5])\n",
    "print(arr1)"
   ]
  }
 ],
 "metadata": {
  "kernelspec": {
   "display_name": "CTBA",
   "language": "python",
   "name": "python3"
  },
  "language_info": {
   "codemirror_mode": {
    "name": "ipython",
    "version": 3
   },
   "file_extension": ".py",
   "mimetype": "text/x-python",
   "name": "python",
   "nbconvert_exporter": "python",
   "pygments_lexer": "ipython3",
   "version": "3.13.5"
  }
 },
 "nbformat": 4,
 "nbformat_minor": 5
}
